{
 "cells": [
  {
   "cell_type": "markdown",
   "id": "4a1569c9",
   "metadata": {},
   "source": [
    "**Importing libraries**"
   ]
  },
  {
   "cell_type": "code",
   "execution_count": 33,
   "id": "b82dbad6",
   "metadata": {},
   "outputs": [],
   "source": [
    "import os\n",
    "import pandas as pd\n",
    "import numpy as np\n",
    "import matplotlib.pyplot as plt\n",
    "import statsmodels.api as sm\n",
    "import seaborn as sns\n",
    "sns.set()\n",
    "from sklearn.cluster import KMeans\n",
    "from sklearn.decomposition import PCA\n",
    "from sklearn.preprocessing import StandardScaler"
   ]
  },
  {
   "cell_type": "code",
   "execution_count": 64,
   "id": "23261f14",
   "metadata": {},
   "outputs": [],
   "source": [
    "#reading the txt file and creating a CSV out of it\n",
    "ikea= pd.read_csv('ikea_kommun_data.txt', sep='\\t', encoding='ISO8859')\n",
    "ikea_pca = ikea.set_index(['Kommun_name'])\n",
    "del ikea_pca[\"Kommun_code\"] #deleting the Ko"
   ]
  },
  {
   "cell_type": "code",
   "execution_count": 65,
   "id": "d44d8066",
   "metadata": {},
   "outputs": [
    {
     "data": {
      "text/html": [
       "<div>\n",
       "<style scoped>\n",
       "    .dataframe tbody tr th:only-of-type {\n",
       "        vertical-align: middle;\n",
       "    }\n",
       "\n",
       "    .dataframe tbody tr th {\n",
       "        vertical-align: top;\n",
       "    }\n",
       "\n",
       "    .dataframe thead th {\n",
       "        text-align: right;\n",
       "    }\n",
       "</style>\n",
       "<table border=\"1\" class=\"dataframe\">\n",
       "  <thead>\n",
       "    <tr style=\"text-align: right;\">\n",
       "      <th></th>\n",
       "      <th>Kommun_code</th>\n",
       "      <th>Year</th>\n",
       "      <th>Kommun_name</th>\n",
       "      <th>Revenue</th>\n",
       "      <th>Employee</th>\n",
       "      <th>Population</th>\n",
       "      <th>Population_University</th>\n",
       "      <th>Percent_University</th>\n",
       "      <th>Productivity</th>\n",
       "      <th>SalesIndex</th>\n",
       "      <th>Infrast</th>\n",
       "      <th>Border</th>\n",
       "    </tr>\n",
       "  </thead>\n",
       "  <tbody>\n",
       "    <tr>\n",
       "      <th>0</th>\n",
       "      <td>2583</td>\n",
       "      <td>2010</td>\n",
       "      <td>Haparanda</td>\n",
       "      <td>1078</td>\n",
       "      <td>276</td>\n",
       "      <td>10059</td>\n",
       "      <td>719</td>\n",
       "      <td>0.071478</td>\n",
       "      <td>195.74174</td>\n",
       "      <td>111.075774</td>\n",
       "      <td>0</td>\n",
       "      <td>1</td>\n",
       "    </tr>\n",
       "    <tr>\n",
       "      <th>1</th>\n",
       "      <td>880</td>\n",
       "      <td>2010</td>\n",
       "      <td>Kalmar</td>\n",
       "      <td>3790</td>\n",
       "      <td>1621</td>\n",
       "      <td>62815</td>\n",
       "      <td>8716</td>\n",
       "      <td>0.138757</td>\n",
       "      <td>117.17365</td>\n",
       "      <td>390.516869</td>\n",
       "      <td>0</td>\n",
       "      <td>0</td>\n",
       "    </tr>\n",
       "    <tr>\n",
       "      <th>2</th>\n",
       "      <td>1780</td>\n",
       "      <td>2010</td>\n",
       "      <td>Karlstad</td>\n",
       "      <td>4560</td>\n",
       "      <td>1910</td>\n",
       "      <td>85753</td>\n",
       "      <td>13308</td>\n",
       "      <td>0.155190</td>\n",
       "      <td>119.64794</td>\n",
       "      <td>469.856708</td>\n",
       "      <td>0</td>\n",
       "      <td>0</td>\n",
       "    </tr>\n",
       "    <tr>\n",
       "      <th>3</th>\n",
       "      <td>114</td>\n",
       "      <td>2010</td>\n",
       "      <td>Upplands Väsby</td>\n",
       "      <td>1366</td>\n",
       "      <td>708</td>\n",
       "      <td>39289</td>\n",
       "      <td>4419</td>\n",
       "      <td>0.112474</td>\n",
       "      <td>96.69215</td>\n",
       "      <td>140.750935</td>\n",
       "      <td>0</td>\n",
       "      <td>0</td>\n",
       "    </tr>\n",
       "    <tr>\n",
       "      <th>4</th>\n",
       "      <td>115</td>\n",
       "      <td>2010</td>\n",
       "      <td>Vallentuna</td>\n",
       "      <td>171</td>\n",
       "      <td>99</td>\n",
       "      <td>30114</td>\n",
       "      <td>3843</td>\n",
       "      <td>0.127615</td>\n",
       "      <td>86.56347</td>\n",
       "      <td>17.619627</td>\n",
       "      <td>0</td>\n",
       "      <td>0</td>\n",
       "    </tr>\n",
       "    <tr>\n",
       "      <th>...</th>\n",
       "      <td>...</td>\n",
       "      <td>...</td>\n",
       "      <td>...</td>\n",
       "      <td>...</td>\n",
       "      <td>...</td>\n",
       "      <td>...</td>\n",
       "      <td>...</td>\n",
       "      <td>...</td>\n",
       "      <td>...</td>\n",
       "      <td>...</td>\n",
       "      <td>...</td>\n",
       "      <td>...</td>\n",
       "    </tr>\n",
       "    <tr>\n",
       "      <th>202</th>\n",
       "      <td>1863</td>\n",
       "      <td>2010</td>\n",
       "      <td>Hällefors</td>\n",
       "      <td>52</td>\n",
       "      <td>33</td>\n",
       "      <td>7220</td>\n",
       "      <td>368</td>\n",
       "      <td>0.050970</td>\n",
       "      <td>78.97019</td>\n",
       "      <td>5.358015</td>\n",
       "      <td>0</td>\n",
       "      <td>0</td>\n",
       "    </tr>\n",
       "    <tr>\n",
       "      <th>203</th>\n",
       "      <td>1864</td>\n",
       "      <td>2010</td>\n",
       "      <td>Ljusnarsberg</td>\n",
       "      <td>51</td>\n",
       "      <td>24</td>\n",
       "      <td>4931</td>\n",
       "      <td>266</td>\n",
       "      <td>0.053944</td>\n",
       "      <td>106.49585</td>\n",
       "      <td>5.254976</td>\n",
       "      <td>0</td>\n",
       "      <td>0</td>\n",
       "    </tr>\n",
       "    <tr>\n",
       "      <th>204</th>\n",
       "      <td>1880</td>\n",
       "      <td>2010</td>\n",
       "      <td>Örebro</td>\n",
       "      <td>6228</td>\n",
       "      <td>2995</td>\n",
       "      <td>135460</td>\n",
       "      <td>19516</td>\n",
       "      <td>0.144072</td>\n",
       "      <td>104.21387</td>\n",
       "      <td>641.725346</td>\n",
       "      <td>0</td>\n",
       "      <td>0</td>\n",
       "    </tr>\n",
       "    <tr>\n",
       "      <th>205</th>\n",
       "      <td>1881</td>\n",
       "      <td>2010</td>\n",
       "      <td>Kumla</td>\n",
       "      <td>152</td>\n",
       "      <td>98</td>\n",
       "      <td>20456</td>\n",
       "      <td>1598</td>\n",
       "      <td>0.078119</td>\n",
       "      <td>77.73047</td>\n",
       "      <td>15.661890</td>\n",
       "      <td>0</td>\n",
       "      <td>0</td>\n",
       "    </tr>\n",
       "    <tr>\n",
       "      <th>206</th>\n",
       "      <td>1882</td>\n",
       "      <td>2010</td>\n",
       "      <td>Askersund</td>\n",
       "      <td>126</td>\n",
       "      <td>65</td>\n",
       "      <td>11278</td>\n",
       "      <td>809</td>\n",
       "      <td>0.071733</td>\n",
       "      <td>97.14735</td>\n",
       "      <td>12.982883</td>\n",
       "      <td>0</td>\n",
       "      <td>0</td>\n",
       "    </tr>\n",
       "  </tbody>\n",
       "</table>\n",
       "<p>207 rows × 12 columns</p>\n",
       "</div>"
      ],
      "text/plain": [
       "     Kommun_code  Year     Kommun_name  Revenue  Employee  Population  \\\n",
       "0           2583  2010       Haparanda     1078       276       10059   \n",
       "1            880  2010          Kalmar     3790      1621       62815   \n",
       "2           1780  2010        Karlstad     4560      1910       85753   \n",
       "3            114  2010  Upplands Väsby     1366       708       39289   \n",
       "4            115  2010      Vallentuna      171        99       30114   \n",
       "..           ...   ...             ...      ...       ...         ...   \n",
       "202         1863  2010       Hällefors       52        33        7220   \n",
       "203         1864  2010    Ljusnarsberg       51        24        4931   \n",
       "204         1880  2010          Örebro     6228      2995      135460   \n",
       "205         1881  2010           Kumla      152        98       20456   \n",
       "206         1882  2010       Askersund      126        65       11278   \n",
       "\n",
       "     Population_University  Percent_University  Productivity  SalesIndex  \\\n",
       "0                      719            0.071478     195.74174  111.075774   \n",
       "1                     8716            0.138757     117.17365  390.516869   \n",
       "2                    13308            0.155190     119.64794  469.856708   \n",
       "3                     4419            0.112474      96.69215  140.750935   \n",
       "4                     3843            0.127615      86.56347   17.619627   \n",
       "..                     ...                 ...           ...         ...   \n",
       "202                    368            0.050970      78.97019    5.358015   \n",
       "203                    266            0.053944     106.49585    5.254976   \n",
       "204                  19516            0.144072     104.21387  641.725346   \n",
       "205                   1598            0.078119      77.73047   15.661890   \n",
       "206                    809            0.071733      97.14735   12.982883   \n",
       "\n",
       "     Infrast  Border  \n",
       "0          0       1  \n",
       "1          0       0  \n",
       "2          0       0  \n",
       "3          0       0  \n",
       "4          0       0  \n",
       "..       ...     ...  \n",
       "202        0       0  \n",
       "203        0       0  \n",
       "204        0       0  \n",
       "205        0       0  \n",
       "206        0       0  \n",
       "\n",
       "[207 rows x 12 columns]"
      ]
     },
     "execution_count": 65,
     "metadata": {},
     "output_type": "execute_result"
    }
   ],
   "source": [
    "ikea"
   ]
  },
  {
   "cell_type": "code",
   "execution_count": 68,
   "id": "1d84bf19",
   "metadata": {},
   "outputs": [],
   "source": [
    "#ikea.dtypes"
   ]
  },
  {
   "cell_type": "code",
   "execution_count": 67,
   "id": "d9e7db7e",
   "metadata": {},
   "outputs": [],
   "source": [
    "#ikea.pop(\"Kommun_name\")\n",
    "#ikea.head()"
   ]
  },
  {
   "cell_type": "markdown",
   "id": "ee2faf95",
   "metadata": {},
   "source": [
    "Scaler is used to standardize features by removing the mean and scaling to unit variance, in order to fit into the data"
   ]
  },
  {
   "cell_type": "code",
   "execution_count": 38,
   "id": "0d47c010",
   "metadata": {},
   "outputs": [],
   "source": [
    "scaler = StandardScaler()\n",
    "ikea_pca_std= scaler.fit_transform(ikea_pca)"
   ]
  },
  {
   "cell_type": "markdown",
   "id": "714f990b",
   "metadata": {},
   "source": [
    "After applying scaling and mutating to array numpy format, the data is prepared for PCA and linear dimensionality reduction using singular value decomposition of the data to project it to a lower dimensional space, enabling us to explain more than 95% of the dataset with PCA and feature shrinkage"
   ]
  },
  {
   "cell_type": "code",
   "execution_count": 39,
   "id": "d13e73b5",
   "metadata": {},
   "outputs": [
    {
     "data": {
      "text/plain": [
       "PCA()"
      ]
     },
     "execution_count": 39,
     "metadata": {},
     "output_type": "execute_result"
    }
   ],
   "source": [
    "#PCA\n",
    "pca=PCA()\n",
    "pca.fit(ikea_pca_std)"
   ]
  },
  {
   "cell_type": "markdown",
   "id": "c0799ce3",
   "metadata": {},
   "source": [
    "Based on the combined variance plot, now we move to feature selection through explained variance ratio, which shows percentage of variance explained by each of the selected 10 components"
   ]
  },
  {
   "cell_type": "code",
   "execution_count": 40,
   "id": "1a47606e",
   "metadata": {},
   "outputs": [
    {
     "data": {
      "text/plain": [
       "array([5.94227668e-01, 1.28923539e-01, 1.02373346e-01, 9.35074320e-02,\n",
       "       7.30032728e-02, 5.98679313e-03, 1.50000612e-03, 4.77943007e-04,\n",
       "       5.55723960e-20, 0.00000000e+00])"
      ]
     },
     "execution_count": 40,
     "metadata": {},
     "output_type": "execute_result"
    }
   ],
   "source": [
    "pca.explained_variance_ratio_"
   ]
  },
  {
   "cell_type": "markdown",
   "id": "16933a32",
   "metadata": {},
   "source": [
    "We can identify the components to be chosen from the graph below"
   ]
  },
  {
   "cell_type": "markdown",
   "id": "a77f72ba",
   "metadata": {},
   "source": [
    "As apparent from the graph, PCA has 5 components that can explain more than 95% of the variance in the dataset, so we can proceed with these with repetitive PCAs"
   ]
  },
  {
   "cell_type": "code",
   "execution_count": 41,
   "id": "c1e080da",
   "metadata": {},
   "outputs": [
    {
     "data": {
      "text/plain": [
       "Text(0, 0.5, 'Cumulative Explained Variance')"
      ]
     },
     "execution_count": 41,
     "metadata": {},
     "output_type": "execute_result"
    },
    {
     "data": {
      "image/png": "[encoded data removed]",
      "text/plain": [
       "<Figure size 720x576 with 1 Axes>"
      ]
     },
     "metadata": {},
     "output_type": "display_data"
    }
   ],
   "source": [
    "plt.figure(figsize=(10,8))\n",
    "plt.plot(range(1,11), pca.explained_variance_ratio_.cumsum(), marker='*', linestyle='-')\n",
    "plt.title('Explained Variance by Components')\n",
    "plt.xlabel('Number of components')\n",
    "plt.ylabel('Cumulative Explained Variance')"
   ]
  },
  {
   "cell_type": "code",
   "execution_count": 42,
   "id": "b15b104e",
   "metadata": {},
   "outputs": [],
   "source": [
    "pca=PCA(n_components=5) #now we are also setting the components mannually"
   ]
  },
  {
   "cell_type": "code",
   "execution_count": 43,
   "id": "ca98a34e",
   "metadata": {},
   "outputs": [
    {
     "data": {
      "text/plain": [
       "PCA(n_components=5)"
      ]
     },
     "execution_count": 43,
     "metadata": {},
     "output_type": "execute_result"
    }
   ],
   "source": [
    "#Fitting for the model to have best suited individual parameters with high level accuracy\n",
    "pca.fit(ikea_pca)"
   ]
  },
  {
   "cell_type": "markdown",
   "id": "3a5f06d1",
   "metadata": {},
   "source": [
    "Here for Kmeans, we need calculated transfored scores of the pca to work with."
   ]
  },
  {
   "cell_type": "code",
   "execution_count": 44,
   "id": "25e9371a",
   "metadata": {},
   "outputs": [
    {
     "data": {
      "text/plain": [
       "array([[-2.47488659e+04,  1.21458778e+03,  1.04108842e+03,\n",
       "         1.38134040e+02,  8.66156430e+01],\n",
       "       [ 2.86008891e+04, -1.90210622e+03,  1.72998640e+03,\n",
       "         8.21016380e+01, -2.33933880e+00],\n",
       "       [ 5.20058638e+04, -2.16855812e+03,  1.53418687e+03,\n",
       "         2.19173554e+02, -1.04814300e+01],\n",
       "       ...,\n",
       "       [ 1.01959153e+05, -6.39630328e+03,  1.29405860e+03,\n",
       "        -8.32445488e+00, -1.51222530e+01],\n",
       "       [-1.44453277e+04, -7.35430189e+01, -3.48310556e+02,\n",
       "        -5.37662288e+00, -9.49000876e+00],\n",
       "       [-2.35803193e+04,  1.05676341e+03,  1.82029060e+01,\n",
       "        -8.57723965e+00,  9.15100280e+00]])"
      ]
     },
     "execution_count": 44,
     "metadata": {},
     "output_type": "execute_result"
    }
   ],
   "source": [
    "#Using sklearn to project each row of the data into the vector space learned when fit was applied\n",
    "#The number of columns will be equal to the value of n_components passed\n",
    "pca.transform(ikea_pca)"
   ]
  },
  {
   "cell_type": "code",
   "execution_count": 45,
   "id": "ce8c5174",
   "metadata": {},
   "outputs": [],
   "source": [
    "#for calculated transformed scores\n",
    "scores_pca=pca.transform(ikea_pca)"
   ]
  },
  {
   "cell_type": "markdown",
   "id": "7e5b621c",
   "metadata": {},
   "source": [
    "**K-means**"
   ]
  },
  {
   "cell_type": "markdown",
   "id": "3d3e59c2",
   "metadata": {},
   "source": [
    "Through sklearn.cluster library, kmeans_k is used to keep the first 15 Ks and through the plot, we can identify that the k=3 is the most suitable K."
   ]
  },
  {
   "cell_type": "markdown",
   "id": "879b4e24",
   "metadata": {},
   "source": [
    "Inertia measures how well a dataset was clustered by K-Means. It is calculated by measuring the \n",
    "distance between each data point and its centroid, squaring this distance, and summing these squares across one cluster. The lower the inertia and Ks, the better."
   ]
  },
  {
   "cell_type": "code",
   "execution_count": 46,
   "id": "df894711",
   "metadata": {},
   "outputs": [
    {
     "name": "stderr",
     "output_type": "stream",
     "text": [
      "C:\\ProgramData\\Anaconda3\\lib\\site-packages\\sklearn\\cluster\\_kmeans.py:881: UserWarning: KMeans is known to have a memory leak on Windows with MKL, when there are less chunks than available threads. You can avoid it by setting the environment variable OMP_NUM_THREADS=1.\n",
      "  warnings.warn(\n"
     ]
    }
   ],
   "source": [
    "kmeans_k=[]\n",
    "for i in range(1,15):\n",
    "    kmeans_pca=KMeans(n_clusters=i, init='k-means++', random_state=35)\n",
    "    kmeans_pca.fit(scores_pca)\n",
    "    kmeans_k.append(kmeans_pca.inertia_)"
   ]
  },
  {
   "cell_type": "code",
   "execution_count": 47,
   "id": "3c7a5d0c",
   "metadata": {},
   "outputs": [
    {
     "data": {
      "text/plain": [
       "[966183407674.0492,\n",
       " 266297005069.7101,\n",
       " 99464857022.00348,\n",
       " 50588024675.85051,\n",
       " 26616710491.633564,\n",
       " 16042655738.577005,\n",
       " 11044280806.319805,\n",
       " 6967280965.628631,\n",
       " 4753750404.14943,\n",
       " 3838771378.247716,\n",
       " 3064225401.276108,\n",
       " 2575923386.019853,\n",
       " 2095007982.7352974,\n",
       " 1913305228.3292882]"
      ]
     },
     "execution_count": 47,
     "metadata": {},
     "output_type": "execute_result"
    }
   ],
   "source": [
    "kmeans_k"
   ]
  },
  {
   "cell_type": "code",
   "execution_count": 48,
   "id": "06dc649b",
   "metadata": {},
   "outputs": [
    {
     "data": {
      "text/plain": [
       "Text(0.5, 1.0, 'K-means with PCA clustering')"
      ]
     },
     "execution_count": 48,
     "metadata": {},
     "output_type": "execute_result"
    },
    {
     "data": {
      "image/png": "[encoded data removed]",
      "text/plain": [
       "<Figure size 720x576 with 1 Axes>"
      ]
     },
     "metadata": {},
     "output_type": "display_data"
    }
   ],
   "source": [
    "plt.figure(figsize=(10,8))\n",
    "plt.plot(range(1,15), kmeans_k, marker=\"+\", linestyle=\":\")\n",
    "plt.xlabel('Number of clusters')\n",
    "plt.ylabel('WCSS')\n",
    "plt.title('K-means with PCA clustering')"
   ]
  },
  {
   "cell_type": "markdown",
   "id": "6070fb67",
   "metadata": {},
   "source": [
    "As shown from the graph, the elbow has just tilted from 3, hence choosing k=3"
   ]
  },
  {
   "cell_type": "code",
   "execution_count": 49,
   "id": "e760dd5c",
   "metadata": {},
   "outputs": [],
   "source": [
    "kmeans_pca=KMeans(n_clusters=3, init='k-means++', random_state=35)"
   ]
  },
  {
   "cell_type": "code",
   "execution_count": 50,
   "id": "d4a14899",
   "metadata": {},
   "outputs": [
    {
     "data": {
      "text/plain": [
       "KMeans(n_clusters=3, random_state=35)"
      ]
     },
     "execution_count": 50,
     "metadata": {},
     "output_type": "execute_result"
    }
   ],
   "source": [
    "kmeans_pca.fit(scores_pca)"
   ]
  },
  {
   "cell_type": "markdown",
   "id": "083b5f54",
   "metadata": {},
   "source": [
    "After adding the 5 components in the initial dataframe, appended additional column for attaching the cluster no.s in the data, in order to keep the data combined."
   ]
  },
  {
   "cell_type": "code",
   "execution_count": 51,
   "id": "b698b926",
   "metadata": {},
   "outputs": [],
   "source": [
    "ikea_final=pd.concat([ikea_pca.reset_index(),pd.DataFrame(scores_pca)], axis=1)\n",
    "ikea_final.columns.values[-5:]=['Component 1','Component 2','Component 3','Component 4','Component 5']\n",
    "ikea_final['Cluster']=kmeans_pca.labels_"
   ]
  },
  {
   "cell_type": "code",
   "execution_count": 52,
   "id": "dd047525",
   "metadata": {},
   "outputs": [
    {
     "name": "stderr",
     "output_type": "stream",
     "text": [
      "C:\\ProgramData\\Anaconda3\\lib\\site-packages\\seaborn\\_decorators.py:36: FutureWarning: Pass the following variables as keyword args: x, y. From version 0.12, the only valid positional argument will be `data`, and passing other arguments without an explicit keyword will result in an error or misinterpretation.\n",
      "  warnings.warn(\n"
     ]
    },
    {
     "data": {
      "image/png": "[encoded data removed]",
      "text/plain": [
       "<Figure size 720x576 with 1 Axes>"
      ]
     },
     "metadata": {},
     "output_type": "display_data"
    }
   ],
   "source": [
    "x_axis=ikea_final['Component 2']\n",
    "y_axis=ikea_final['Component 1']\n",
    "plt.figure(figsize=(10,8))\n",
    "sns.scatterplot(x_axis, y_axis, hue=ikea_final['Cluster'], palette=['red','black','blue'])\n",
    "plt.title('Graph : Clusters by PCA Components')\n",
    "plt.show()"
   ]
  },
  {
   "cell_type": "code",
   "execution_count": 53,
   "id": "c92cc33e",
   "metadata": {},
   "outputs": [
    {
     "data": {
      "text/plain": [
       "0    185\n",
       "2     21\n",
       "1      1\n",
       "Name: Cluster, dtype: int64"
      ]
     },
     "execution_count": 53,
     "metadata": {},
     "output_type": "execute_result"
    }
   ],
   "source": [
    "ikea_final['Cluster'].value_counts()"
   ]
  },
  {
   "cell_type": "markdown",
   "id": "61bdb356",
   "metadata": {},
   "source": [
    "Component 1 and 2 have been chosen as they have the abundance in data for explanation, with majority in cluster '0' with 185 kommuns and vice versa"
   ]
  },
  {
   "cell_type": "markdown",
   "id": "52825576",
   "metadata": {},
   "source": [
    "**Kommuns suggestions**\n",
    "\n",
    "By 2010, 19 kommuns had ikea present in them"
   ]
  },
  {
   "cell_type": "markdown",
   "id": "c8bbfbe9",
   "metadata": {},
   "source": [
    "Adding additional column showing Kommuns\n",
    "\n",
    "1 = with ikea presence, 0 = wihtout ikea presence"
   ]
  },
  {
   "cell_type": "markdown",
   "id": "13dd509f",
   "metadata": {},
   "source": [
    "A list containing the additional column and has been appended to the final dataset to dinstinguish and filter "
   ]
  },
  {
   "cell_type": "code",
   "execution_count": 54,
   "id": "18486a99",
   "metadata": {},
   "outputs": [],
   "source": [
    "ikea_final=ikea_final.drop(([\"Component 1\",\"Component 2\",\"Component 3\",\"Component 4\",\"Component 5\"]), axis=1)"
   ]
  },
  {
   "cell_type": "code",
   "execution_count": 55,
   "id": "9eb265a5",
   "metadata": {},
   "outputs": [],
   "source": [
    "available_ikea=[0]*207"
   ]
  },
  {
   "cell_type": "code",
   "execution_count": 56,
   "id": "d91ae115",
   "metadata": {},
   "outputs": [],
   "source": [
    "has_ikea=['Haparanda','Karlstad','Örebro',\n",
    "'Uppsala',\n",
    "'Huddinge',\n",
    "'Uddevalla',\n",
    "'Mölndal',\n",
    "'Linköping',\n",
    "'Jönköping',\n",
    "'Helsingborg',\n",
    "'Kalmar',\n",
    "'Älmhult',\n",
    "'Malmö']"
   ]
  },
  {
   "cell_type": "code",
   "execution_count": 57,
   "id": "3d68af89",
   "metadata": {},
   "outputs": [],
   "source": [
    "ikea_final['has_ikea']=available_ikea"
   ]
  },
  {
   "cell_type": "code",
   "execution_count": 58,
   "id": "7d0132a9",
   "metadata": {},
   "outputs": [],
   "source": [
    "ikea_final.loc[ikea_final['Kommun_name'].isin(has_ikea),'has_ikea']=1"
   ]
  },
  {
   "cell_type": "markdown",
   "id": "4627e08b",
   "metadata": {},
   "source": [
    "The kommuns with the highest population and no IKEA presence are the most suitable for starting establishing a presence."
   ]
  },
  {
   "cell_type": "code",
   "execution_count": 59,
   "id": "e95a35d5",
   "metadata": {},
   "outputs": [
    {
     "data": {
      "text/html": [
       "<div>\n",
       "<style scoped>\n",
       "    .dataframe tbody tr th:only-of-type {\n",
       "        vertical-align: middle;\n",
       "    }\n",
       "\n",
       "    .dataframe tbody tr th {\n",
       "        vertical-align: top;\n",
       "    }\n",
       "\n",
       "    .dataframe thead th {\n",
       "        text-align: right;\n",
       "    }\n",
       "</style>\n",
       "<table border=\"1\" class=\"dataframe\">\n",
       "  <thead>\n",
       "    <tr style=\"text-align: right;\">\n",
       "      <th></th>\n",
       "      <th>Kommun_name</th>\n",
       "      <th>Year</th>\n",
       "      <th>Revenue</th>\n",
       "      <th>Employee</th>\n",
       "      <th>Population</th>\n",
       "      <th>Population_University</th>\n",
       "      <th>Percent_University</th>\n",
       "      <th>Productivity</th>\n",
       "      <th>SalesIndex</th>\n",
       "      <th>Infrast</th>\n",
       "      <th>Border</th>\n",
       "      <th>Cluster</th>\n",
       "      <th>has_ikea</th>\n",
       "    </tr>\n",
       "  </thead>\n",
       "  <tbody>\n",
       "    <tr>\n",
       "      <th>19</th>\n",
       "      <td>Stockholm</td>\n",
       "      <td>2010</td>\n",
       "      <td>32897</td>\n",
       "      <td>18795</td>\n",
       "      <td>847073</td>\n",
       "      <td>191585</td>\n",
       "      <td>0.226173</td>\n",
       "      <td>87.71780</td>\n",
       "      <td>3389.665819</td>\n",
       "      <td>1</td>\n",
       "      <td>0</td>\n",
       "      <td>1</td>\n",
       "      <td>0</td>\n",
       "    </tr>\n",
       "    <tr>\n",
       "      <th>53</th>\n",
       "      <td>Norrköping</td>\n",
       "      <td>2010</td>\n",
       "      <td>4438</td>\n",
       "      <td>2630</td>\n",
       "      <td>130050</td>\n",
       "      <td>14526</td>\n",
       "      <td>0.111696</td>\n",
       "      <td>84.56785</td>\n",
       "      <td>457.285981</td>\n",
       "      <td>0</td>\n",
       "      <td>0</td>\n",
       "      <td>2</td>\n",
       "      <td>0</td>\n",
       "    </tr>\n",
       "    <tr>\n",
       "      <th>118</th>\n",
       "      <td>Lund</td>\n",
       "      <td>2010</td>\n",
       "      <td>3438</td>\n",
       "      <td>1561</td>\n",
       "      <td>110488</td>\n",
       "      <td>29233</td>\n",
       "      <td>0.264581</td>\n",
       "      <td>110.37653</td>\n",
       "      <td>354.247229</td>\n",
       "      <td>0</td>\n",
       "      <td>0</td>\n",
       "      <td>2</td>\n",
       "      <td>0</td>\n",
       "    </tr>\n",
       "  </tbody>\n",
       "</table>\n",
       "</div>"
      ],
      "text/plain": [
       "    Kommun_name  Year  Revenue  Employee  Population  Population_University  \\\n",
       "19    Stockholm  2010    32897     18795      847073                 191585   \n",
       "53   Norrköping  2010     4438      2630      130050                  14526   \n",
       "118        Lund  2010     3438      1561      110488                  29233   \n",
       "\n",
       "     Percent_University  Productivity   SalesIndex  Infrast  Border  Cluster  \\\n",
       "19             0.226173      87.71780  3389.665819        1       0        1   \n",
       "53             0.111696      84.56785   457.285981        0       0        2   \n",
       "118            0.264581     110.37653   354.247229        0       0        2   \n",
       "\n",
       "     has_ikea  \n",
       "19          0  \n",
       "53          0  \n",
       "118         0  "
      ]
     },
     "execution_count": 59,
     "metadata": {},
     "output_type": "execute_result"
    }
   ],
   "source": [
    "ikea_final[ikea_final[\"has_ikea\"]==0].sort_values(by=['Population'], ascending=False).head(3)"
   ]
  },
  {
   "cell_type": "markdown",
   "id": "93fb81d4",
   "metadata": {},
   "source": [
    "As per the data provided the above cities have the highest population and don't have IKEA presence so they are the most suitable ones for starting IKEA presense."
   ]
  },
  {
   "cell_type": "markdown",
   "id": "871cf50a",
   "metadata": {},
   "source": [
    "Now can use conditioning using Kommun codes (near ones having the same first two digits) to avoid suggesting openining of IKEA in nearby locations"
   ]
  },
  {
   "cell_type": "code",
   "execution_count": 60,
   "id": "f7d9d893",
   "metadata": {},
   "outputs": [],
   "source": [
    "k= pd.read_csv('ikea_kommun_data.txt', sep='\\t', encoding='ISO8859')"
   ]
  },
  {
   "cell_type": "code",
   "execution_count": 61,
   "id": "b7b55d9e",
   "metadata": {},
   "outputs": [],
   "source": [
    "ikea_final['Kommun_code']=round(k[\"Kommun_code\"]/100)"
   ]
  },
  {
   "cell_type": "code",
   "execution_count": 62,
   "id": "489fb1e4",
   "metadata": {},
   "outputs": [
    {
     "data": {
      "text/html": [
       "<div>\n",
       "<style scoped>\n",
       "    .dataframe tbody tr th:only-of-type {\n",
       "        vertical-align: middle;\n",
       "    }\n",
       "\n",
       "    .dataframe tbody tr th {\n",
       "        vertical-align: top;\n",
       "    }\n",
       "\n",
       "    .dataframe thead th {\n",
       "        text-align: right;\n",
       "    }\n",
       "</style>\n",
       "<table border=\"1\" class=\"dataframe\">\n",
       "  <thead>\n",
       "    <tr style=\"text-align: right;\">\n",
       "      <th></th>\n",
       "      <th>Kommun_name</th>\n",
       "      <th>Year</th>\n",
       "      <th>Revenue</th>\n",
       "      <th>Employee</th>\n",
       "      <th>Population</th>\n",
       "      <th>Population_University</th>\n",
       "      <th>Percent_University</th>\n",
       "      <th>Productivity</th>\n",
       "      <th>SalesIndex</th>\n",
       "      <th>Infrast</th>\n",
       "      <th>Border</th>\n",
       "      <th>Cluster</th>\n",
       "      <th>has_ikea</th>\n",
       "      <th>Kommun_code</th>\n",
       "    </tr>\n",
       "  </thead>\n",
       "  <tbody>\n",
       "    <tr>\n",
       "      <th>9</th>\n",
       "      <td>Huddinge</td>\n",
       "      <td>2010</td>\n",
       "      <td>7153</td>\n",
       "      <td>2374</td>\n",
       "      <td>97453</td>\n",
       "      <td>12795</td>\n",
       "      <td>0.131294</td>\n",
       "      <td>151.00150</td>\n",
       "      <td>737.036192</td>\n",
       "      <td>0</td>\n",
       "      <td>0</td>\n",
       "      <td>2</td>\n",
       "      <td>1</td>\n",
       "      <td>1.0</td>\n",
       "    </tr>\n",
       "    <tr>\n",
       "      <th>33</th>\n",
       "      <td>Uppsala</td>\n",
       "      <td>2010</td>\n",
       "      <td>7042</td>\n",
       "      <td>3391</td>\n",
       "      <td>197787</td>\n",
       "      <td>40476</td>\n",
       "      <td>0.204644</td>\n",
       "      <td>104.07394</td>\n",
       "      <td>725.598890</td>\n",
       "      <td>0</td>\n",
       "      <td>0</td>\n",
       "      <td>2</td>\n",
       "      <td>1</td>\n",
       "      <td>4.0</td>\n",
       "    </tr>\n",
       "    <tr>\n",
       "      <th>52</th>\n",
       "      <td>Linköping</td>\n",
       "      <td>2010</td>\n",
       "      <td>5348</td>\n",
       "      <td>2280</td>\n",
       "      <td>146416</td>\n",
       "      <td>26023</td>\n",
       "      <td>0.177733</td>\n",
       "      <td>117.55208</td>\n",
       "      <td>551.051245</td>\n",
       "      <td>0</td>\n",
       "      <td>0</td>\n",
       "      <td>2</td>\n",
       "      <td>1</td>\n",
       "      <td>6.0</td>\n",
       "    </tr>\n",
       "    <tr>\n",
       "      <th>64</th>\n",
       "      <td>Jönköping</td>\n",
       "      <td>2010</td>\n",
       "      <td>5298</td>\n",
       "      <td>2556</td>\n",
       "      <td>127382</td>\n",
       "      <td>16750</td>\n",
       "      <td>0.131494</td>\n",
       "      <td>103.87831</td>\n",
       "      <td>545.899307</td>\n",
       "      <td>0</td>\n",
       "      <td>0</td>\n",
       "      <td>2</td>\n",
       "      <td>1</td>\n",
       "      <td>7.0</td>\n",
       "    </tr>\n",
       "    <tr>\n",
       "      <th>75</th>\n",
       "      <td>Älmhult</td>\n",
       "      <td>2010</td>\n",
       "      <td>847</td>\n",
       "      <td>853</td>\n",
       "      <td>15603</td>\n",
       "      <td>1511</td>\n",
       "      <td>0.096840</td>\n",
       "      <td>49.76318</td>\n",
       "      <td>87.273823</td>\n",
       "      <td>0</td>\n",
       "      <td>0</td>\n",
       "      <td>0</td>\n",
       "      <td>1</td>\n",
       "      <td>8.0</td>\n",
       "    </tr>\n",
       "    <tr>\n",
       "      <th>1</th>\n",
       "      <td>Kalmar</td>\n",
       "      <td>2010</td>\n",
       "      <td>3790</td>\n",
       "      <td>1621</td>\n",
       "      <td>62815</td>\n",
       "      <td>8716</td>\n",
       "      <td>0.138757</td>\n",
       "      <td>117.17365</td>\n",
       "      <td>390.516869</td>\n",
       "      <td>0</td>\n",
       "      <td>0</td>\n",
       "      <td>0</td>\n",
       "      <td>1</td>\n",
       "      <td>9.0</td>\n",
       "    </tr>\n",
       "    <tr>\n",
       "      <th>117</th>\n",
       "      <td>Malmö</td>\n",
       "      <td>2010</td>\n",
       "      <td>11217</td>\n",
       "      <td>5740</td>\n",
       "      <td>298963</td>\n",
       "      <td>50084</td>\n",
       "      <td>0.167526</td>\n",
       "      <td>97.93515</td>\n",
       "      <td>1155.785679</td>\n",
       "      <td>1</td>\n",
       "      <td>0</td>\n",
       "      <td>2</td>\n",
       "      <td>1</td>\n",
       "      <td>13.0</td>\n",
       "    </tr>\n",
       "    <tr>\n",
       "      <th>120</th>\n",
       "      <td>Helsingborg</td>\n",
       "      <td>2010</td>\n",
       "      <td>5528</td>\n",
       "      <td>3244</td>\n",
       "      <td>129177</td>\n",
       "      <td>16395</td>\n",
       "      <td>0.126919</td>\n",
       "      <td>85.40061</td>\n",
       "      <td>569.598220</td>\n",
       "      <td>1</td>\n",
       "      <td>0</td>\n",
       "      <td>2</td>\n",
       "      <td>1</td>\n",
       "      <td>13.0</td>\n",
       "    </tr>\n",
       "    <tr>\n",
       "      <th>165</th>\n",
       "      <td>Mölndal</td>\n",
       "      <td>2010</td>\n",
       "      <td>3512</td>\n",
       "      <td>1487</td>\n",
       "      <td>60973</td>\n",
       "      <td>9962</td>\n",
       "      <td>0.163384</td>\n",
       "      <td>118.36336</td>\n",
       "      <td>361.872096</td>\n",
       "      <td>0</td>\n",
       "      <td>0</td>\n",
       "      <td>0</td>\n",
       "      <td>1</td>\n",
       "      <td>15.0</td>\n",
       "    </tr>\n",
       "    <tr>\n",
       "      <th>168</th>\n",
       "      <td>Uddevalla</td>\n",
       "      <td>2010</td>\n",
       "      <td>2309</td>\n",
       "      <td>1010</td>\n",
       "      <td>51868</td>\n",
       "      <td>5727</td>\n",
       "      <td>0.110415</td>\n",
       "      <td>114.57143</td>\n",
       "      <td>237.916478</td>\n",
       "      <td>0</td>\n",
       "      <td>0</td>\n",
       "      <td>0</td>\n",
       "      <td>1</td>\n",
       "      <td>15.0</td>\n",
       "    </tr>\n",
       "    <tr>\n",
       "      <th>2</th>\n",
       "      <td>Karlstad</td>\n",
       "      <td>2010</td>\n",
       "      <td>4560</td>\n",
       "      <td>1910</td>\n",
       "      <td>85753</td>\n",
       "      <td>13308</td>\n",
       "      <td>0.155190</td>\n",
       "      <td>119.64794</td>\n",
       "      <td>469.856708</td>\n",
       "      <td>0</td>\n",
       "      <td>0</td>\n",
       "      <td>2</td>\n",
       "      <td>1</td>\n",
       "      <td>18.0</td>\n",
       "    </tr>\n",
       "    <tr>\n",
       "      <th>204</th>\n",
       "      <td>Örebro</td>\n",
       "      <td>2010</td>\n",
       "      <td>6228</td>\n",
       "      <td>2995</td>\n",
       "      <td>135460</td>\n",
       "      <td>19516</td>\n",
       "      <td>0.144072</td>\n",
       "      <td>104.21387</td>\n",
       "      <td>641.725346</td>\n",
       "      <td>0</td>\n",
       "      <td>0</td>\n",
       "      <td>2</td>\n",
       "      <td>1</td>\n",
       "      <td>19.0</td>\n",
       "    </tr>\n",
       "    <tr>\n",
       "      <th>0</th>\n",
       "      <td>Haparanda</td>\n",
       "      <td>2010</td>\n",
       "      <td>1078</td>\n",
       "      <td>276</td>\n",
       "      <td>10059</td>\n",
       "      <td>719</td>\n",
       "      <td>0.071478</td>\n",
       "      <td>195.74174</td>\n",
       "      <td>111.075774</td>\n",
       "      <td>0</td>\n",
       "      <td>1</td>\n",
       "      <td>0</td>\n",
       "      <td>1</td>\n",
       "      <td>26.0</td>\n",
       "    </tr>\n",
       "  </tbody>\n",
       "</table>\n",
       "</div>"
      ],
      "text/plain": [
       "     Kommun_name  Year  Revenue  Employee  Population  Population_University  \\\n",
       "9       Huddinge  2010     7153      2374       97453                  12795   \n",
       "33       Uppsala  2010     7042      3391      197787                  40476   \n",
       "52     Linköping  2010     5348      2280      146416                  26023   \n",
       "64     Jönköping  2010     5298      2556      127382                  16750   \n",
       "75       Älmhult  2010      847       853       15603                   1511   \n",
       "1         Kalmar  2010     3790      1621       62815                   8716   \n",
       "117        Malmö  2010    11217      5740      298963                  50084   \n",
       "120  Helsingborg  2010     5528      3244      129177                  16395   \n",
       "165      Mölndal  2010     3512      1487       60973                   9962   \n",
       "168    Uddevalla  2010     2309      1010       51868                   5727   \n",
       "2       Karlstad  2010     4560      1910       85753                  13308   \n",
       "204       Örebro  2010     6228      2995      135460                  19516   \n",
       "0      Haparanda  2010     1078       276       10059                    719   \n",
       "\n",
       "     Percent_University  Productivity   SalesIndex  Infrast  Border  Cluster  \\\n",
       "9              0.131294     151.00150   737.036192        0       0        2   \n",
       "33             0.204644     104.07394   725.598890        0       0        2   \n",
       "52             0.177733     117.55208   551.051245        0       0        2   \n",
       "64             0.131494     103.87831   545.899307        0       0        2   \n",
       "75             0.096840      49.76318    87.273823        0       0        0   \n",
       "1              0.138757     117.17365   390.516869        0       0        0   \n",
       "117            0.167526      97.93515  1155.785679        1       0        2   \n",
       "120            0.126919      85.40061   569.598220        1       0        2   \n",
       "165            0.163384     118.36336   361.872096        0       0        0   \n",
       "168            0.110415     114.57143   237.916478        0       0        0   \n",
       "2              0.155190     119.64794   469.856708        0       0        2   \n",
       "204            0.144072     104.21387   641.725346        0       0        2   \n",
       "0              0.071478     195.74174   111.075774        0       1        0   \n",
       "\n",
       "     has_ikea  Kommun_code  \n",
       "9           1          1.0  \n",
       "33          1          4.0  \n",
       "52          1          6.0  \n",
       "64          1          7.0  \n",
       "75          1          8.0  \n",
       "1           1          9.0  \n",
       "117         1         13.0  \n",
       "120         1         13.0  \n",
       "165         1         15.0  \n",
       "168         1         15.0  \n",
       "2           1         18.0  \n",
       "204         1         19.0  \n",
       "0           1         26.0  "
      ]
     },
     "execution_count": 62,
     "metadata": {},
     "output_type": "execute_result"
    }
   ],
   "source": [
    "ikea_final[ikea_final[\"has_ikea\"]==1].sort_values(by='Kommun_code')"
   ]
  },
  {
   "cell_type": "markdown",
   "id": "448decd2",
   "metadata": {},
   "source": [
    "-----------"
   ]
  }
 ],
 "metadata": {
  "kernelspec": {
   "display_name": "Python 3 (ipykernel)",
   "language": "python",
   "name": "python3"
  },
  "language_info": {
   "codemirror_mode": {
    "name": "ipython",
    "version": 3
   },
   "file_extension": ".py",
   "mimetype": "text/x-python",
   "name": "python",
   "nbconvert_exporter": "python",
   "pygments_lexer": "ipython3",
   "version": "3.9.7"
  }
 },
 "nbformat": 4,
 "nbformat_minor": 5
}
